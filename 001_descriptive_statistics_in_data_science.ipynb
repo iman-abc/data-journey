{
 "cells": [
  {
   "cell_type": "markdown",
   "id": "d8c90ca4",
   "metadata": {},
   "source": [
    "# Descriptive Statistics in Data Science"
   ]
  },
  {
   "cell_type": "markdown",
   "id": "52f300a6",
   "metadata": {},
   "source": [
    "\n",
    "Descriptive statistics is one of the foundational tools in data science that allows us to quickly gain insights from our data. This notebook demonstrates how to use descriptive statistics to analyze and summarize data, identify outliers, and prepare for further analysis.\n"
   ]
  },
  {
   "cell_type": "markdown",
   "id": "5e23033c",
   "metadata": {},
   "source": [
    "\n",
    "## Why is Descriptive Statistics Important?\n",
    "\n",
    "1. **Summarizing Data:** Measures of central tendency like mean, median, and mode help us understand the central point of our data.\n",
    "2. **Identifying Outliers:** Tools like box plots and range analysis help us spot any abnormal or extreme data points.\n",
    "3. **Understanding Data Distribution:** By calculating standard deviation, variance, skewness, and kurtosis, we can assess the spread and shape of our data distribution.\n",
    "4. **Data Preparation:** Before jumping into complex analysis or modeling, understanding the basic statistics helps in data cleaning and feature selection.\n"
   ]
  },
  {
   "cell_type": "code",
   "execution_count": null,
   "id": "8bb5a677",
   "metadata": {},
   "outputs": [],
   "source": [
    "\n",
    "import pandas as pd\n",
    "import numpy as np\n",
    "\n",
    "# Sample data\n",
    "data = {\n",
    "    'Feature1': [12, 15, 14, 10, 11, 13, 150, 12, 14, 10],\n",
    "    'Feature2': [10, 15, 12, 12, 14, 13, 11, 13, 15, 14]\n",
    "}\n",
    "\n",
    "# Create DataFrame\n",
    "df = pd.DataFrame(data)\n",
    "\n",
    "# Displaying the data\n",
    "df\n"
   ]
  },
  {
   "cell_type": "code",
   "execution_count": null,
   "id": "87f10174",
   "metadata": {},
   "outputs": [],
   "source": [
    "\n",
    "# Descriptive Statistics\n",
    "descriptive_stats = df.describe()\n",
    "descriptive_stats\n"
   ]
  },
  {
   "cell_type": "code",
   "execution_count": null,
   "id": "b7fc1697",
   "metadata": {},
   "outputs": [],
   "source": [
    "\n",
    "import matplotlib.pyplot as plt\n",
    "\n",
    "# Plotting Histogram\n",
    "plt.figure(figsize=(12, 6))\n",
    "df['Feature1'].hist(bins=10, alpha=0.7)\n",
    "plt.title('Histogram of Feature1')\n",
    "plt.xlabel('Value')\n",
    "plt.ylabel('Frequency')\n",
    "plt.show()\n"
   ]
  },
  {
   "cell_type": "code",
   "execution_count": null,
   "id": "4490776e",
   "metadata": {},
   "outputs": [],
   "source": [
    "\n",
    "import seaborn as sns\n",
    "\n",
    "# Plotting Boxplot\n",
    "plt.figure(figsize=(8, 6))\n",
    "sns.boxplot(data=df)\n",
    "plt.title('Boxplot of Features')\n",
    "plt.show()\n"
   ]
  },
  {
   "cell_type": "code",
   "execution_count": null,
   "id": "30458672",
   "metadata": {},
   "outputs": [],
   "source": [
    "\n",
    "# Skewness and Kurtosis\n",
    "skewness = df.skew()\n",
    "kurtosis = df.kurtosis()\n",
    "\n",
    "skewness, kurtosis\n"
   ]
  },
  {
   "cell_type": "code",
   "execution_count": null,
   "id": "e589304a",
   "metadata": {},
   "outputs": [],
   "source": [
    "\n",
    "# Identifying Outliers in Feature1\n",
    "outliers = df[df['Feature1'] > df['Feature1'].mean() + 2*df['Feature1'].std()]\n",
    "outliers\n"
   ]
  },
  {
   "cell_type": "markdown",
   "id": "ffc742e8",
   "metadata": {},
   "source": [
    "\n",
    "## Conclusion\n",
    "\n",
    "By leveraging descriptive statistics, we gain valuable insights into our data that can guide our further analysis and decision-making process. From understanding the central tendency and spread of data to identifying outliers and distribution characteristics, descriptive statistics is an essential tool in the data scientist's toolkit.\n"
   ]
  }
 ],
 "metadata": {},
 "nbformat": 4,
 "nbformat_minor": 5
}
